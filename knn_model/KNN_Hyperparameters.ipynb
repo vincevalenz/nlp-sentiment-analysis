{
  "nbformat": 4,
  "nbformat_minor": 0,
  "metadata": {
    "colab": {
      "name": "KNN_Hyperparameters.ipynb",
      "provenance": []
    },
    "kernelspec": {
      "name": "python3",
      "display_name": "Python 3"
    },
    "language_info": {
      "name": "python"
    },
    "accelerator": "GPU"
  },
  "cells": [
    {
      "cell_type": "code",
      "metadata": {
        "id": "VfxZaL0-e8Jp"
      },
      "source": [
        "import pandas as pd\n",
        "from sklearn.feature_extraction import text\n",
        "from sklearn.feature_extraction.text import TfidfVectorizer\n",
        "from sklearn.neighbors import KNeighborsClassifier\n",
        "from sklearn.metrics import classification_report\n",
        "from sklearn.utils import resample\n",
        "from sklearn.model_selection import GridSearchCV, RandomizedSearchCV\n",
        "from sklearn.metrics import confusion_matrix, plot_confusion_matrix\n",
        "from nltk.corpus import stopwords\n",
        "\n",
        "tr = open(\"train.txt\").read().split('\\n')\n",
        "val = open(\"val.txt\").read().split('\\n')\n",
        "ts = open(\"test.txt\").read().split('\\n')\n",
        "\n",
        "stopWords = set(stopwords.words('english'))\n",
        "# Remove these words from the stopwords list that may be important to classifying emotion\n",
        "stopWords = stopWords - {'not', 'dont', 'doesnt', 'didnt', 'no', 'down', 'very', 'under', 'below', 'off', 'on', 'up'}\n",
        "\n",
        "train = [d.split(';') for d in tr]\n",
        "train = train[:-1]\n",
        "\n",
        "for s in train:\n",
        "    if \" t \" in s[0]:\n",
        "        s[0] = s[0].replace(\" t \", \"t \")\n",
        "\n",
        "validation = [d.split(';') for d in val]\n",
        "validation = validation[:-1]\n",
        "\n",
        "for s in validation:\n",
        "    if \" t \" in s[0]:\n",
        "        s[0] = s[0].replace(\" t \", \"t \")\n",
        "\n",
        "test = [d.split(';') for d in ts]\n",
        "test = test[:-1]\n",
        "\n",
        "for s in test:\n",
        "    if \" t \" in s[0]:\n",
        "        s[0] = s[0].replace(\" t \", \"t \")"
      ],
      "execution_count": null,
      "outputs": []
    },
    {
      "cell_type": "code",
      "metadata": {
        "colab": {
          "base_uri": "https://localhost:8080/"
        },
        "id": "xyJ1VGCCgjPF",
        "outputId": "e82c059e-55d4-42a5-855b-c6f3ad91a905"
      },
      "source": [
        "train_df = pd.DataFrame(data=train + validation, columns=['doc', 'class'])\n",
        "test_df = pd.DataFrame(data=test, columns=['doc','class'])\n",
        "\n",
        "train_df['class'].value_counts()"
      ],
      "execution_count": null,
      "outputs": [
        {
          "output_type": "execute_result",
          "data": {
            "text/plain": [
              "joy         6066\n",
              "sadness     5216\n",
              "anger       2434\n",
              "fear        2149\n",
              "love        1482\n",
              "surprise     653\n",
              "Name: class, dtype: int64"
            ]
          },
          "metadata": {
            "tags": []
          },
          "execution_count": 5
        }
      ]
    },
    {
      "cell_type": "code",
      "metadata": {
        "colab": {
          "base_uri": "https://localhost:8080/"
        },
        "id": "wwseLdoliD-v",
        "outputId": "12ee5323-223d-4ecf-f454-97e93c3c3a3e"
      },
      "source": [
        "\n",
        "anger = train_df[train_df['class'] == 'anger']\n",
        "fear = train_df[train_df['class'] == 'fear']\n",
        "sadness = train_df[train_df['class'] == 'sadness']\n",
        "joy = train_df[train_df['class'] == 'joy']\n",
        "love = train_df[train_df['class'] == 'love']\n",
        "\n",
        "#sadness = resample(sadness, replace=True, n_samples=5000)\n",
        "anger = resample(anger, replace=True, n_samples=3500)\n",
        "fear = resample(fear, replace=True, n_samples=3500)\n",
        "love = resample(love, replace=True, n_samples=6000)\n",
        "#joy = resample(joy, replace=True, n_samples=6000)\n",
        "\n",
        "train_df = pd.concat([joy, love, anger, fear, sadness])\n",
        "\n",
        "print(train_df.shape)\n",
        "train_df['class'].value_counts()"
      ],
      "execution_count": null,
      "outputs": [
        {
          "output_type": "stream",
          "text": [
            "(24282, 2)\n"
          ],
          "name": "stdout"
        },
        {
          "output_type": "execute_result",
          "data": {
            "text/plain": [
              "joy        6066\n",
              "love       6000\n",
              "sadness    5216\n",
              "fear       3500\n",
              "anger      3500\n",
              "Name: class, dtype: int64"
            ]
          },
          "metadata": {
            "tags": []
          },
          "execution_count": 6
        }
      ]
    },
    {
      "cell_type": "code",
      "metadata": {
        "colab": {
          "base_uri": "https://localhost:8080/"
        },
        "id": "9o6FXZ9WhoOw",
        "outputId": "84e744ee-c6cc-407d-e989-3da80d344831"
      },
      "source": [
        "test_df = test_df[test_df['class'] != 'surprise']\n",
        "test_df['class'].value_counts()"
      ],
      "execution_count": null,
      "outputs": [
        {
          "output_type": "execute_result",
          "data": {
            "text/plain": [
              "joy        695\n",
              "sadness    581\n",
              "anger      275\n",
              "fear       224\n",
              "love       159\n",
              "Name: class, dtype: int64"
            ]
          },
          "metadata": {
            "tags": []
          },
          "execution_count": 7
        }
      ]
    },
    {
      "cell_type": "code",
      "metadata": {
        "id": "5ZW99TNchw5v"
      },
      "source": [
        "train_df['class'].replace(['sadness', 'anger', 'fear'], 'unpleasant', inplace=True)\n",
        "train_df['class'].replace(['love', 'joy'], 'pleasant', inplace=True)\n",
        "\n",
        "test_df['class'].replace(['sadness', 'anger', 'fear'], 'unpleasant', inplace=True)\n",
        "test_df['class'].replace(['love', 'joy'], 'pleasant', inplace=True)"
      ],
      "execution_count": null,
      "outputs": []
    },
    {
      "cell_type": "code",
      "metadata": {
        "id": "Lxt2JWR9mGVX"
      },
      "source": [
        "test_classes = test_df['class'].values.tolist()"
      ],
      "execution_count": null,
      "outputs": []
    },
    {
      "cell_type": "code",
      "metadata": {
        "colab": {
          "base_uri": "https://localhost:8080/",
          "height": 231
        },
        "id": "PVYSIAgWj6Qi",
        "outputId": "56a87c57-f079-4eb1-fb7d-21e437161de5"
      },
      "source": [
        "vectorizer = TfidfVectorizer(analyzer='word', stop_words=stopWords)\n",
        "tfidf_train = vectorizer.fit_transform(train_df['doc'].values.tolist())\n",
        "\n",
        "# Initiate KNN classifier\n",
        "#knn_classifier = KNeighborsClassifier(n_neighbors=18, weights='distance', p=2, n_jobs=-1)\n",
        "knn_classifier = KNeighborsClassifier()\n",
        "\n",
        "params = {'n_neighbors':list(range(1,30)),\n",
        "          'weights':['uniform', 'distance'],\n",
        "          'p': [1,2],\n",
        "          'algorithm':['auto'],\n",
        "          'n_jobs':[-1]}\n",
        "knn_classifier = GridSearchCV(knn_classifier, param_grid=params, n_jobs=-1)\n",
        "\n",
        "knn_classifier.fit(X=tfidf_train, y=train_df['class'])\n",
        "\n",
        "print(\"\\nBest KNN params: \", knn_classifier.best_params_)\n",
        "\n",
        "# KNN on test data\n",
        "# TFIDF on test data\n",
        "tfidf_test = vectorizer.transform(test_df['doc'].values.tolist())\n",
        "test_pred_knn = knn_classifier.predict(tfidf_test)"
      ],
      "execution_count": null,
      "outputs": [
        {
          "output_type": "error",
          "ename": "NameError",
          "evalue": "ignored",
          "traceback": [
            "\u001b[0;31m---------------------------------------------------------------------------\u001b[0m",
            "\u001b[0;31mNameError\u001b[0m                                 Traceback (most recent call last)",
            "\u001b[0;32m<ipython-input-1-d9f6459e905c>\u001b[0m in \u001b[0;36m<module>\u001b[0;34m()\u001b[0m\n\u001b[0;32m----> 1\u001b[0;31m \u001b[0mvectorizer\u001b[0m \u001b[0;34m=\u001b[0m \u001b[0mTfidfVectorizer\u001b[0m\u001b[0;34m(\u001b[0m\u001b[0manalyzer\u001b[0m\u001b[0;34m=\u001b[0m\u001b[0;34m'word'\u001b[0m\u001b[0;34m,\u001b[0m \u001b[0mstop_words\u001b[0m\u001b[0;34m=\u001b[0m\u001b[0mtext\u001b[0m\u001b[0;34m.\u001b[0m\u001b[0mENGLISH_STOP_WORDS\u001b[0m\u001b[0;34m.\u001b[0m\u001b[0munion\u001b[0m\u001b[0;34m(\u001b[0m\u001b[0;34m[\u001b[0m\u001b[0;34m'i'\u001b[0m\u001b[0;34m]\u001b[0m\u001b[0;34m)\u001b[0m\u001b[0;34m)\u001b[0m\u001b[0;34m\u001b[0m\u001b[0;34m\u001b[0m\u001b[0m\n\u001b[0m\u001b[1;32m      2\u001b[0m \u001b[0mtfidf_train\u001b[0m \u001b[0;34m=\u001b[0m \u001b[0mvectorizer\u001b[0m\u001b[0;34m.\u001b[0m\u001b[0mfit_transform\u001b[0m\u001b[0;34m(\u001b[0m\u001b[0mtrain_df\u001b[0m\u001b[0;34m[\u001b[0m\u001b[0;34m'doc'\u001b[0m\u001b[0;34m]\u001b[0m\u001b[0;34m.\u001b[0m\u001b[0mvalues\u001b[0m\u001b[0;34m.\u001b[0m\u001b[0mtolist\u001b[0m\u001b[0;34m(\u001b[0m\u001b[0;34m)\u001b[0m\u001b[0;34m)\u001b[0m\u001b[0;34m\u001b[0m\u001b[0;34m\u001b[0m\u001b[0m\n\u001b[1;32m      3\u001b[0m \u001b[0;34m\u001b[0m\u001b[0m\n\u001b[1;32m      4\u001b[0m \u001b[0;31m# Initiate KNN classifier\u001b[0m\u001b[0;34m\u001b[0m\u001b[0;34m\u001b[0m\u001b[0;34m\u001b[0m\u001b[0m\n\u001b[1;32m      5\u001b[0m \u001b[0;31m#knn_classifier = KNeighborsClassifier(n_neighbors=18, weights='distance', p=2, n_jobs=-1)\u001b[0m\u001b[0;34m\u001b[0m\u001b[0;34m\u001b[0m\u001b[0;34m\u001b[0m\u001b[0m\n",
            "\u001b[0;31mNameError\u001b[0m: name 'TfidfVectorizer' is not defined"
          ]
        }
      ]
    },
    {
      "cell_type": "code",
      "metadata": {
        "colab": {
          "base_uri": "https://localhost:8080/",
          "height": 282
        },
        "id": "_7XvqbNZxDoj",
        "outputId": "bd9a0b35-3d19-4763-855d-bae93c94351c"
      },
      "source": [
        "\n",
        "print(\"\\n---KNN Results---\\n\")\n",
        "\n",
        "print(classification_report(y_true=test_classes, y_pred=test_pred_knn))\n",
        "print(\"test confusion matrix\\n\", confusion_matrix(y_true=test_classes, y_pred=test_pred_knn))\n",
        "plot_confusion_matrix(estimator=knn_classifier, X=tfidf_test, y_true=test_classes)"
      ],
      "execution_count": null,
      "outputs": [
        {
          "output_type": "stream",
          "text": [
            "\n",
            "---KNN Results---\n",
            "\n"
          ],
          "name": "stdout"
        },
        {
          "output_type": "error",
          "ename": "NameError",
          "evalue": "ignored",
          "traceback": [
            "\u001b[0;31m---------------------------------------------------------------------------\u001b[0m",
            "\u001b[0;31mNameError\u001b[0m                                 Traceback (most recent call last)",
            "\u001b[0;32m<ipython-input-1-b0812b64de68>\u001b[0m in \u001b[0;36m<module>\u001b[0;34m()\u001b[0m\n\u001b[1;32m      2\u001b[0m \u001b[0mprint\u001b[0m\u001b[0;34m(\u001b[0m\u001b[0;34m\"\\n---KNN Results---\\n\"\u001b[0m\u001b[0;34m)\u001b[0m\u001b[0;34m\u001b[0m\u001b[0;34m\u001b[0m\u001b[0m\n\u001b[1;32m      3\u001b[0m \u001b[0;34m\u001b[0m\u001b[0m\n\u001b[0;32m----> 4\u001b[0;31m \u001b[0mprint\u001b[0m\u001b[0;34m(\u001b[0m\u001b[0mclassification_report\u001b[0m\u001b[0;34m(\u001b[0m\u001b[0my_true\u001b[0m\u001b[0;34m=\u001b[0m\u001b[0mtest_classes\u001b[0m\u001b[0;34m,\u001b[0m \u001b[0my_pred\u001b[0m\u001b[0;34m=\u001b[0m\u001b[0mtest_pred_knn\u001b[0m\u001b[0;34m)\u001b[0m\u001b[0;34m)\u001b[0m\u001b[0;34m\u001b[0m\u001b[0;34m\u001b[0m\u001b[0m\n\u001b[0m\u001b[1;32m      5\u001b[0m \u001b[0mprint\u001b[0m\u001b[0;34m(\u001b[0m\u001b[0;34m\"test confusion matrix\\n\"\u001b[0m\u001b[0;34m,\u001b[0m \u001b[0mconfusion_matrix\u001b[0m\u001b[0;34m(\u001b[0m\u001b[0my_true\u001b[0m\u001b[0;34m=\u001b[0m\u001b[0mtest_classes\u001b[0m\u001b[0;34m,\u001b[0m \u001b[0my_pred\u001b[0m\u001b[0;34m=\u001b[0m\u001b[0mtest_pred_knn\u001b[0m\u001b[0;34m)\u001b[0m\u001b[0;34m)\u001b[0m\u001b[0;34m\u001b[0m\u001b[0;34m\u001b[0m\u001b[0m\n\u001b[1;32m      6\u001b[0m \u001b[0mplot_confusion_matrix\u001b[0m\u001b[0;34m(\u001b[0m\u001b[0mestimator\u001b[0m\u001b[0;34m=\u001b[0m\u001b[0mknn_classifier\u001b[0m\u001b[0;34m,\u001b[0m \u001b[0mX\u001b[0m\u001b[0;34m=\u001b[0m\u001b[0mtfidf_test\u001b[0m\u001b[0;34m,\u001b[0m \u001b[0my_true\u001b[0m\u001b[0;34m=\u001b[0m\u001b[0mtest_classes\u001b[0m\u001b[0;34m)\u001b[0m\u001b[0;34m\u001b[0m\u001b[0;34m\u001b[0m\u001b[0m\n",
            "\u001b[0;31mNameError\u001b[0m: name 'classification_report' is not defined"
          ]
        }
      ]
    }
  ]
}